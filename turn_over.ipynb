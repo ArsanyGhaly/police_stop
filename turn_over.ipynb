{
 "cells": [
  {
   "cell_type": "code",
   "execution_count": 1,
   "metadata": {},
   "outputs": [],
   "source": [
    "#import the libaries  \n",
    "import numpy as np\n",
    "import pandas as pd\n",
    "import matplotlib.pyplot as plt\n",
    "import seaborn as sns\n",
    "from scipy import stats\n",
    "from scipy.stats import norm, skew #for some statistics\n",
    "\n",
    "#set some options of pd \n",
    "pd.options.display.max_columns = 500     #toshow all the columns\n",
    "pd.options.display.max_rows = 500     #toshow all the rows\n",
    "pd.set_option('display.float_format', lambda x: '{:.3f}'.format(x)) # to round\n"
   ]
  },
  {
   "cell_type": "code",
   "execution_count": 2,
   "metadata": {},
   "outputs": [],
   "source": [
    "#import the data \n",
    "data = pd.read_csv('turnover.csv')\n",
    "#data['id']=data.index"
   ]
  },
  {
   "cell_type": "code",
   "execution_count": 3,
   "metadata": {},
   "outputs": [
    {
     "name": "stdout",
     "output_type": "stream",
     "text": [
      "the shape of train is : (14999, 10)\n"
     ]
    }
   ],
   "source": [
    "#check the shape 10 features and 14999 rows\n",
    "print(\"the shape of train is :\",data.shape)"
   ]
  },
  {
   "cell_type": "code",
   "execution_count": 4,
   "metadata": {},
   "outputs": [
    {
     "name": "stdout",
     "output_type": "stream",
     "text": [
      "the columns of the training are : Index(['satisfaction', 'evaluation', 'number_of_projects',\n",
      "       'average_montly_hours', 'time_spend_company', 'work_accident', 'churn',\n",
      "       'promotion', 'department', 'salary'],\n",
      "      dtype='object')\n"
     ]
    }
   ],
   "source": [
    "#print the columns of the columns\n",
    "print(\"the columns of the training are :\",data.columns)"
   ]
  },
  {
   "cell_type": "code",
   "execution_count": 5,
   "metadata": {},
   "outputs": [
    {
     "name": "stdout",
     "output_type": "stream",
     "text": [
      "   satisfaction  evaluation  number_of_projects  average_montly_hours  \\\n",
      "0         0.380       0.530                   2                   157   \n",
      "1         0.800       0.860                   5                   262   \n",
      "2         0.110       0.880                   7                   272   \n",
      "3         0.720       0.870                   5                   223   \n",
      "4         0.370       0.520                   2                   159   \n",
      "\n",
      "   time_spend_company  work_accident  churn  promotion department  salary  \n",
      "0                   3              0      1          0      sales     low  \n",
      "1                   6              0      1          0      sales  medium  \n",
      "2                   4              0      1          0      sales  medium  \n",
      "3                   5              0      1          0      sales     low  \n",
      "4                   3              0      1          0      sales     low  \n"
     ]
    }
   ],
   "source": [
    "print(data.head())"
   ]
  },
  {
   "cell_type": "code",
   "execution_count": 6,
   "metadata": {},
   "outputs": [],
   "source": [
    "#so we have 10 features:\n",
    "#evaluation 0-1\n",
    "#num_of_project \n",
    "#houres >> avg\n",
    "#time spend >> years\n",
    "#salary >> low/medium/high\n",
    "#work accendient >>\n",
    "#promoution\n",
    "# department"
   ]
  },
  {
   "cell_type": "code",
   "execution_count": 7,
   "metadata": {},
   "outputs": [],
   "source": [
    "#start preparing for data cleaning \n",
    "#1-check for dublicates \n",
    "#idsUnique = len(set(data.id))\n",
    "#idsTotal = data.shape[0]\n",
    "#idsDupli = idsTotal - idsUnique\n",
    "#print(\"There are \" + str(idsDupli) + \" duplicate IDs for \" + str(idsTotal) + \" total entries\")"
   ]
  },
  {
   "cell_type": "code",
   "execution_count": 8,
   "metadata": {},
   "outputs": [
    {
     "name": "stdout",
     "output_type": "stream",
     "text": [
      "<class 'pandas.core.frame.DataFrame'>\n",
      "RangeIndex: 14999 entries, 0 to 14998\n",
      "Data columns (total 10 columns):\n",
      "satisfaction            14999 non-null float64\n",
      "evaluation              14999 non-null float64\n",
      "number_of_projects      14999 non-null int64\n",
      "average_montly_hours    14999 non-null int64\n",
      "time_spend_company      14999 non-null int64\n",
      "work_accident           14999 non-null int64\n",
      "churn                   14999 non-null int64\n",
      "promotion               14999 non-null int64\n",
      "department              14999 non-null object\n",
      "salary                  14999 non-null object\n",
      "dtypes: float64(2), int64(6), object(2)\n",
      "memory usage: 1.1+ MB\n",
      "None\n"
     ]
    }
   ],
   "source": [
    "print(data.info())"
   ]
  },
  {
   "cell_type": "code",
   "execution_count": 9,
   "metadata": {},
   "outputs": [],
   "source": [
    "# we have only 2 catorical values\n",
    "#we have 10 unique  departments / 3 salary\n",
    "\n",
    "#dep=data.department.unique()\n",
    "#print(len(dep))\n",
    "#print(dep)\n",
    "#print(data.department.value_counts())\n",
    "#print(data.salary.unique())"
   ]
  },
  {
   "cell_type": "code",
   "execution_count": 10,
   "metadata": {},
   "outputs": [
    {
     "name": "stdout",
     "output_type": "stream",
     "text": [
      "Numerical : \n",
      "['satisfaction', 'evaluation', 'number_of_projects', 'average_montly_hours', 'time_spend_company', 'work_accident', 'churn', 'promotion']\n",
      "\n",
      "catagorical: ['department', 'salary']\n"
     ]
    }
   ],
   "source": [
    "#dived the data to numerical and catograical variables \n",
    "numerical = data.dtypes[data.dtypes != object].index.tolist()\n",
    "catagorical = data.dtypes[data.dtypes == object].index.tolist()\n",
    "print(\"Numerical : \\n\" + str(numerical) + \"\\n\")\n",
    "print(\"catagorical: \" + str(catagorical))"
   ]
  },
  {
   "cell_type": "code",
   "execution_count": 11,
   "metadata": {},
   "outputs": [
    {
     "data": {
      "text/html": [
       "<div>\n",
       "<style scoped>\n",
       "    .dataframe tbody tr th:only-of-type {\n",
       "        vertical-align: middle;\n",
       "    }\n",
       "\n",
       "    .dataframe tbody tr th {\n",
       "        vertical-align: top;\n",
       "    }\n",
       "\n",
       "    .dataframe thead th {\n",
       "        text-align: right;\n",
       "    }\n",
       "</style>\n",
       "<table border=\"1\" class=\"dataframe\">\n",
       "  <thead>\n",
       "    <tr style=\"text-align: right;\">\n",
       "      <th></th>\n",
       "      <th>satisfaction</th>\n",
       "      <th>evaluation</th>\n",
       "      <th>number_of_projects</th>\n",
       "      <th>average_montly_hours</th>\n",
       "      <th>time_spend_company</th>\n",
       "      <th>work_accident</th>\n",
       "      <th>churn</th>\n",
       "      <th>promotion</th>\n",
       "    </tr>\n",
       "  </thead>\n",
       "  <tbody>\n",
       "    <tr>\n",
       "      <th>count</th>\n",
       "      <td>14999.000</td>\n",
       "      <td>14999.000</td>\n",
       "      <td>14999.000</td>\n",
       "      <td>14999.000</td>\n",
       "      <td>14999.000</td>\n",
       "      <td>14999.000</td>\n",
       "      <td>14999.000</td>\n",
       "      <td>14999.000</td>\n",
       "    </tr>\n",
       "    <tr>\n",
       "      <th>mean</th>\n",
       "      <td>0.613</td>\n",
       "      <td>0.716</td>\n",
       "      <td>3.803</td>\n",
       "      <td>201.050</td>\n",
       "      <td>3.498</td>\n",
       "      <td>0.145</td>\n",
       "      <td>0.238</td>\n",
       "      <td>0.021</td>\n",
       "    </tr>\n",
       "    <tr>\n",
       "      <th>std</th>\n",
       "      <td>0.249</td>\n",
       "      <td>0.171</td>\n",
       "      <td>1.233</td>\n",
       "      <td>49.943</td>\n",
       "      <td>1.460</td>\n",
       "      <td>0.352</td>\n",
       "      <td>0.426</td>\n",
       "      <td>0.144</td>\n",
       "    </tr>\n",
       "    <tr>\n",
       "      <th>min</th>\n",
       "      <td>0.090</td>\n",
       "      <td>0.360</td>\n",
       "      <td>2.000</td>\n",
       "      <td>96.000</td>\n",
       "      <td>2.000</td>\n",
       "      <td>0.000</td>\n",
       "      <td>0.000</td>\n",
       "      <td>0.000</td>\n",
       "    </tr>\n",
       "    <tr>\n",
       "      <th>25%</th>\n",
       "      <td>0.440</td>\n",
       "      <td>0.560</td>\n",
       "      <td>3.000</td>\n",
       "      <td>156.000</td>\n",
       "      <td>3.000</td>\n",
       "      <td>0.000</td>\n",
       "      <td>0.000</td>\n",
       "      <td>0.000</td>\n",
       "    </tr>\n",
       "    <tr>\n",
       "      <th>50%</th>\n",
       "      <td>0.640</td>\n",
       "      <td>0.720</td>\n",
       "      <td>4.000</td>\n",
       "      <td>200.000</td>\n",
       "      <td>3.000</td>\n",
       "      <td>0.000</td>\n",
       "      <td>0.000</td>\n",
       "      <td>0.000</td>\n",
       "    </tr>\n",
       "    <tr>\n",
       "      <th>75%</th>\n",
       "      <td>0.820</td>\n",
       "      <td>0.870</td>\n",
       "      <td>5.000</td>\n",
       "      <td>245.000</td>\n",
       "      <td>4.000</td>\n",
       "      <td>0.000</td>\n",
       "      <td>0.000</td>\n",
       "      <td>0.000</td>\n",
       "    </tr>\n",
       "    <tr>\n",
       "      <th>max</th>\n",
       "      <td>1.000</td>\n",
       "      <td>1.000</td>\n",
       "      <td>7.000</td>\n",
       "      <td>310.000</td>\n",
       "      <td>10.000</td>\n",
       "      <td>1.000</td>\n",
       "      <td>1.000</td>\n",
       "      <td>1.000</td>\n",
       "    </tr>\n",
       "  </tbody>\n",
       "</table>\n",
       "</div>"
      ],
      "text/plain": [
       "       satisfaction  evaluation  number_of_projects  average_montly_hours  \\\n",
       "count     14999.000   14999.000           14999.000             14999.000   \n",
       "mean          0.613       0.716               3.803               201.050   \n",
       "std           0.249       0.171               1.233                49.943   \n",
       "min           0.090       0.360               2.000                96.000   \n",
       "25%           0.440       0.560               3.000               156.000   \n",
       "50%           0.640       0.720               4.000               200.000   \n",
       "75%           0.820       0.870               5.000               245.000   \n",
       "max           1.000       1.000               7.000               310.000   \n",
       "\n",
       "       time_spend_company  work_accident     churn  promotion  \n",
       "count           14999.000      14999.000 14999.000  14999.000  \n",
       "mean                3.498          0.145     0.238      0.021  \n",
       "std                 1.460          0.352     0.426      0.144  \n",
       "min                 2.000          0.000     0.000      0.000  \n",
       "25%                 3.000          0.000     0.000      0.000  \n",
       "50%                 3.000          0.000     0.000      0.000  \n",
       "75%                 4.000          0.000     0.000      0.000  \n",
       "max                10.000          1.000     1.000      1.000  "
      ]
     },
     "execution_count": 11,
     "metadata": {},
     "output_type": "execute_result"
    }
   ],
   "source": [
    "data[numerical].describe()"
   ]
  },
  {
   "cell_type": "code",
   "execution_count": 12,
   "metadata": {},
   "outputs": [
    {
     "name": "stdout",
     "output_type": "stream",
     "text": [
      "2494.313174809979\n",
      "[0 1]\n",
      "[1 0]\n",
      "[0 1]\n"
     ]
    }
   ],
   "source": [
    "#evaluation 0-1 ---> 0.36 -1 >>> the mean is over 0.7 so the over all is good\n",
    "#satisfaction 0-1 --->0.09 - 1\n",
    "#number_of_projects 2-7\n",
    "#average_montly_hours >> min 96 week=40 * 4  = 160 fulltime\n",
    "#max 310 -160 = 150 hours overtime\n",
    "#mean 201 - 160 = 41 overtime \n",
    "print(data.average_montly_hours.var())\n",
    "# the variance for hourse is very high\n",
    "# so we can ask which department have the highest average_montly_hours\n",
    "# time_spend_company --> 2-10 years  and the nean is 3.4 so we can ask age of the department\n",
    "#work_accident -> 0 or one so we can make this 0/1 True or false \n",
    "print(data.work_accident.unique()) # check the avage of the accendient and in which department and tie this with the average_montly_hours,\n",
    "#time_spend_company\n",
    "print(data.churn.unique())  #leave or stay and this this the targert value\n",
    "#promotion \n",
    "print(data.promotion.unique())\n",
    "#convert ask about why the company promote the employee evaluation/time_spend_company/department\n",
    "#see the promoted with leave or stay \n",
    "# ask aout the department and salary /time_spend_company/"
   ]
  },
  {
   "cell_type": "code",
   "execution_count": 13,
   "metadata": {},
   "outputs": [
    {
     "name": "stdout",
     "output_type": "stream",
     "text": [
      "<class 'pandas.core.frame.DataFrame'>\n",
      "RangeIndex: 14999 entries, 0 to 14998\n",
      "Data columns (total 10 columns):\n",
      "satisfaction            14999 non-null float64\n",
      "evaluation              14999 non-null float64\n",
      "number_of_projects      14999 non-null int64\n",
      "average_montly_hours    14999 non-null int64\n",
      "time_spend_company      14999 non-null int64\n",
      "work_accident           14999 non-null int64\n",
      "churn                   14999 non-null int64\n",
      "promotion               14999 non-null int64\n",
      "department              14999 non-null object\n",
      "salary                  14999 non-null object\n",
      "dtypes: float64(2), int64(6), object(2)\n",
      "memory usage: 1.1+ MB\n",
      "None\n"
     ]
    }
   ],
   "source": [
    "#convert any infinty value to nan\n",
    "data = data.replace([np.inf, -np.inf], np.nan)\n",
    "print(data.info())\n",
    "# there is no missing data in this data set"
   ]
  },
  {
   "cell_type": "code",
   "execution_count": 14,
   "metadata": {},
   "outputs": [
    {
     "name": "stdout",
     "output_type": "stream",
     "text": [
      "sales          4140\n",
      "technical      2720\n",
      "support        2229\n",
      "IT             1227\n",
      "product_mng     902\n",
      "marketing       858\n",
      "RandD           787\n",
      "accounting      767\n",
      "hr              739\n",
      "management      630\n",
      "Name: department, dtype: int64\n"
     ]
    },
    {
     "data": {
      "text/plain": [
       "<matplotlib.axes._subplots.AxesSubplot at 0x2bca822fcc0>"
      ]
     },
     "execution_count": 14,
     "metadata": {},
     "output_type": "execute_result"
    },
    {
     "data": {
      "image/png": "[encoded data removed]",
      "text/plain": [
       "<Figure size 432x288 with 1 Axes>"
      ]
     },
     "metadata": {},
     "output_type": "display_data"
    }
   ],
   "source": [
    "#start answer the questions that we constructed earier\n",
    "#1-which department has the highest houres\n",
    "df=data.department.value_counts()\n",
    "print(df)\n",
    "df.plot(kind='barh')\n",
    "#sales is the highest and "
   ]
  },
  {
   "cell_type": "code",
   "execution_count": 15,
   "metadata": {},
   "outputs": [
    {
     "data": {
      "text/plain": [
       "department\n",
       "hr            198.685\n",
       "marketing     199.386\n",
       "product_mng   199.966\n",
       "support       200.758\n",
       "RandD         200.801\n",
       "sales         200.911\n",
       "accounting    201.163\n",
       "management    201.249\n",
       "IT            202.216\n",
       "technical     202.497\n",
       "Name: average_montly_hours, dtype: float64"
      ]
     },
     "execution_count": 15,
     "metadata": {},
     "output_type": "execute_result"
    }
   ],
   "source": [
    "data.groupby('department').average_montly_hours.mean().sort_values()\n",
    "#the avarage is very close but on the other side the empoloyes is "
   ]
  },
  {
   "cell_type": "code",
   "execution_count": 16,
   "metadata": {},
   "outputs": [
    {
     "data": {
      "text/plain": [
       "department\n",
       "product_mng      0\n",
       "IT               3\n",
       "accounting      14\n",
       "hr              15\n",
       "support         20\n",
       "RandD           27\n",
       "technical       28\n",
       "marketing       43\n",
       "management      69\n",
       "sales          100\n",
       "Name: promotion, dtype: int64"
      ]
     },
     "execution_count": 16,
     "metadata": {},
     "output_type": "execute_result"
    }
   ],
   "source": [
    "data.groupby('department').promotion.sum().sort_values()\n",
    "#the most promotion is in sales"
   ]
  },
  {
   "cell_type": "code",
   "execution_count": 17,
   "metadata": {},
   "outputs": [
    {
     "name": "stdout",
     "output_type": "stream",
     "text": [
      "2169\n",
      "0.1446096406427095\n"
     ]
    },
    {
     "data": {
      "text/plain": [
       "department\n",
       "hr              89\n",
       "accounting      96\n",
       "management     103\n",
       "product_mng    132\n",
       "RandD          134\n",
       "marketing      138\n",
       "IT             164\n",
       "support        345\n",
       "technical      381\n",
       "sales          587\n",
       "Name: work_accident, dtype: int64"
      ]
     },
     "execution_count": 17,
     "metadata": {},
     "output_type": "execute_result"
    }
   ],
   "source": [
    "#the totale number of accendents is 2169 and the avarge is 0.14\n",
    "accendent = data.work_accident.sum()\n",
    "print(accendent)\n",
    "print(accendent/ data.work_accident.count())\n",
    "\n",
    "data.groupby('department').work_accident.sum().sort_values()\n",
    "#the most accendent is in sales /\n"
   ]
  },
  {
   "cell_type": "code",
   "execution_count": 18,
   "metadata": {},
   "outputs": [
    {
     "data": {
      "text/plain": [
       "department\n",
       "management       91\n",
       "RandD           121\n",
       "product_mng     198\n",
       "marketing       203\n",
       "accounting      204\n",
       "hr              215\n",
       "IT              273\n",
       "support         555\n",
       "technical       697\n",
       "sales          1014\n",
       "Name: churn, dtype: int64"
      ]
     },
     "execution_count": 18,
     "metadata": {},
     "output_type": "execute_result"
    }
   ],
   "source": [
    "data.groupby('department').churn.sum().sort_values()\n",
    "#the most chturn is in the sales, techniqual and the sorrat almost the same as the accendent "
   ]
  },
  {
   "cell_type": "code",
   "execution_count": 19,
   "metadata": {},
   "outputs": [
    {
     "name": "stdout",
     "output_type": "stream",
     "text": [
      "sales          4140\n",
      "technical      2720\n",
      "support        2229\n",
      "IT             1227\n",
      "product_mng     902\n",
      "marketing       858\n",
      "RandD           787\n",
      "accounting      767\n",
      "hr              739\n",
      "management      630\n",
      "Name: department, dtype: int64\n",
      "             high   low  medium  department\n",
      "department                                 \n",
      "IT             83   609     535        1227\n",
      "RandD          51   364     372         787\n",
      "accounting     74   358     335         767\n",
      "hr             45   335     359         739\n",
      "management    225   180     225         630\n",
      "marketing      80   402     376         858\n",
      "product_mng    68   451     383         902\n",
      "sales         269  2099    1772        4140\n",
      "support       141  1146     942        2229\n",
      "technical     201  1372    1147        2720\n",
      "             high   low  medium  department\n",
      "department                                 \n",
      "IT          0.068 0.496   0.436        1227\n",
      "RandD       0.065 0.463   0.473         787\n",
      "accounting  0.096 0.467   0.437         767\n",
      "hr          0.061 0.453   0.486         739\n",
      "management  0.357 0.286   0.357         630\n",
      "marketing   0.093 0.469   0.438         858\n",
      "product_mng 0.075 0.500   0.425         902\n",
      "sales       0.065 0.507   0.428        4140\n",
      "support     0.063 0.514   0.423        2229\n",
      "technical   0.074 0.504   0.422        2720\n",
      "department\n",
      "management    0.286\n",
      "hr            0.453\n",
      "RandD         0.463\n",
      "accounting    0.467\n",
      "marketing     0.469\n",
      "IT            0.496\n",
      "product_mng   0.500\n",
      "technical     0.504\n",
      "sales         0.507\n",
      "support       0.514\n",
      "Name: low, dtype: float64\n"
     ]
    }
   ],
   "source": [
    "table=pd.crosstab(data.department,data.salary)\n",
    "cc=data.department.value_counts()\n",
    "\n",
    "print(cc)\n",
    "table2=table.join(cc)\n",
    "print(table2)\n",
    "s = [] \n",
    "for i in data.salary.unique():\n",
    "    table2[i]=table2[i] / table2.department\n",
    "    \n",
    "print(table2)\n",
    "highest = table2['low'].sort_values(ascending=True)\n",
    "print(highest)"
   ]
  },
  {
   "cell_type": "code",
   "execution_count": 20,
   "metadata": {},
   "outputs": [
    {
     "name": "stdout",
     "output_type": "stream",
     "text": [
      "60.82329879585551\n",
      "36.88042565107813\n",
      "2.2962755530663683\n",
      "100.0\n"
     ]
    }
   ],
   "source": [
    "# so over than 60% quit and has a law salary\n",
    "highest=data[data.salary == 'low'].churn.sum() / data.churn.sum() *100\n",
    "highest2=data[data.salary == 'medium'].churn.sum() / data.churn.sum() *100\n",
    "highest3=data[data.salary == 'high'].churn.sum() / data.churn.sum() *100\n",
    "print(highest)\n",
    "print(highest2)\n",
    "print(highest3)\n",
    "print(highest + highest2 +highest3)"
   ]
  },
  {
   "cell_type": "code",
   "execution_count": 21,
   "metadata": {},
   "outputs": [
    {
     "name": "stdout",
     "output_type": "stream",
     "text": [
      "Index([0, 1, 'department'], dtype='object')\n",
      "                0     1  department  persentage\n",
      "department                                     \n",
      "IT            954   273        1227       0.222\n",
      "RandD         666   121         787       0.154\n",
      "accounting    563   204         767       0.266\n",
      "hr            524   215         739       0.291\n",
      "management    539    91         630       0.144\n",
      "marketing     655   203         858       0.237\n",
      "product_mng   704   198         902       0.220\n",
      "sales        3126  1014        4140       0.245\n",
      "support      1674   555        2229       0.249\n",
      "technical    2023   697        2720       0.256\n",
      "                0     1  department  persentage\n",
      "department                                     \n",
      "hr            524   215         739       0.291\n",
      "accounting    563   204         767       0.266\n",
      "technical    2023   697        2720       0.256\n",
      "support      1674   555        2229       0.249\n",
      "sales        3126  1014        4140       0.245\n",
      "marketing     655   203         858       0.237\n",
      "IT            954   273        1227       0.222\n",
      "product_mng   704   198         902       0.220\n",
      "RandD         666   121         787       0.154\n",
      "management    539    91         630       0.144\n"
     ]
    },
    {
     "data": {
      "text/plain": [
       "<matplotlib.axes._subplots.AxesSubplot at 0x2bca83a70f0>"
      ]
     },
     "execution_count": 21,
     "metadata": {},
     "output_type": "execute_result"
    },
    {
     "data": {
      "image/png": "[encoded data removed]",
      "text/plain": [
       "<Figure size 432x288 with 1 Axes>"
      ]
     },
     "metadata": {},
     "output_type": "display_data"
    }
   ],
   "source": [
    "table3=pd.crosstab(data.department,data.churn)\n",
    "table4 =table3.join(cc)\n",
    "print(table4.columns)\n",
    "table4['persentage'] = table4[1] / table4['department']\n",
    "print(table4)\n",
    "table4= table4.sort_values('persentage',ascending=False)\n",
    "print(table4)\n",
    "\n",
    "table4.persentage.plot(kind='bar')"
   ]
  },
  {
   "cell_type": "code",
   "execution_count": 22,
   "metadata": {},
   "outputs": [],
   "source": [
    "#start preprocessing for the model \n",
    "#leave the true/ false as it is 0 or 1 \n",
    "#so regardress to that we have 2 catagorical \n",
    "#salary --> small set and ordered --> so we can use cat \n",
    "#department --> large set and unordered --> so we can use dummies"
   ]
  },
  {
   "cell_type": "code",
   "execution_count": 23,
   "metadata": {},
   "outputs": [
    {
     "name": "stdout",
     "output_type": "stream",
     "text": [
      "   satisfaction  evaluation  number_of_projects  average_montly_hours  \\\n",
      "0        -0.936      -1.087              -1.463                -0.882   \n",
      "1         0.753       0.841               0.971                 1.220   \n",
      "2        -2.022       0.958               2.594                 1.421   \n",
      "3         0.431       0.899               0.971                 0.440   \n",
      "4        -0.977      -1.146              -1.463                -0.842   \n",
      "\n",
      "   time_spend_company  work_accident  churn  promotion department  salary  \n",
      "0              -0.341              0      1          0      sales     low  \n",
      "1               1.713              0      1          0      sales  medium  \n",
      "2               0.344              0      1          0      sales  medium  \n",
      "3               1.029              0      1          0      sales     low  \n",
      "4              -0.341              0      1          0      sales     low  \n"
     ]
    },
    {
     "data": {
      "text/plain": [
       "satisfaction           1.000\n",
       "evaluation             1.000\n",
       "number_of_projects     1.000\n",
       "average_montly_hours   1.000\n",
       "time_spend_company     1.000\n",
       "work_accident          0.124\n",
       "churn                  0.181\n",
       "promotion              0.021\n",
       "dtype: float64"
      ]
     },
     "execution_count": 23,
     "metadata": {},
     "output_type": "execute_result"
    }
   ],
   "source": [
    "#start looking if there is something have to normiled\n",
    "from sklearn.preprocessing import StandardScaler\n",
    "scale = StandardScaler()\n",
    "numerical = ['satisfaction','evaluation','number_of_projects','average_montly_hours','time_spend_company']\n",
    "others   = ['work_accident', 'churn','promotion', 'department', 'salary']\n",
    "data2 = pd.DataFrame(scale.fit_transform(data[numerical]),columns=numerical)\n",
    "data3 = data[others]\n",
    "all_data = pd.concat([data2,data3],axis=1)\n",
    "# average_montly_hours is by far higher than the others\n",
    "#np.log(data[['average_montly_hours','number_of_projects','time_spend_company']])\n",
    "#data2[others] = others\n",
    "#data['department'] = department \n",
    "#data['salary']     = salary\n",
    "print(all_data.head())\n",
    "all_data.var()"
   ]
  },
  {
   "cell_type": "code",
   "execution_count": 24,
   "metadata": {},
   "outputs": [],
   "source": [
    "all_data.salary = all_data.salary.astype('category')\n",
    "all_data.salary = all_data.salary.cat.reorder_categories(['low','medium','high'])\n",
    "all_data.salary = all_data.salary.cat.codes\n"
   ]
  },
  {
   "cell_type": "code",
   "execution_count": 25,
   "metadata": {},
   "outputs": [],
   "source": [
    "departments = pd.get_dummies(all_data.department)\n",
    "departments = departments.drop('technical',axis=1)\n",
    "all_data = all_data.drop('department',axis=1)\n",
    "all_data = all_data.join(departments)"
   ]
  },
  {
   "cell_type": "code",
   "execution_count": 26,
   "metadata": {},
   "outputs": [
    {
     "name": "stdout",
     "output_type": "stream",
     "text": [
      "   IT  RandD  accounting  hr  management  marketing  product_mng  sales  \\\n",
      "0   0      0           0   0           0          0            0      1   \n",
      "1   0      0           0   0           0          0            0      1   \n",
      "2   0      0           0   0           0          0            0      1   \n",
      "3   0      0           0   0           0          0            0      1   \n",
      "4   0      0           0   0           0          0            0      1   \n",
      "\n",
      "   support  \n",
      "0        0  \n",
      "1        0  \n",
      "2        0  \n",
      "3        0  \n",
      "4        0  \n"
     ]
    }
   ],
   "source": [
    "print(departments.head())"
   ]
  },
  {
   "cell_type": "code",
   "execution_count": 27,
   "metadata": {},
   "outputs": [
    {
     "name": "stdout",
     "output_type": "stream",
     "text": [
      "0    11428\n",
      "1     3571\n",
      "Name: churn, dtype: int64\n",
      "0   76.192\n",
      "1   23.808\n",
      "Name: churn, dtype: float64\n"
     ]
    }
   ],
   "source": [
    "# start looking at the target value\n",
    "n = len(all_data)\n",
    "d = all_data.churn.value_counts()\n",
    "print(d)\n",
    "# presentage of staying and left employees \n",
    "per = (d/n) * 100\n",
    "print(per)\n",
    "#so stayed --> 76.19\n",
    "#left --> 23.808 "
   ]
  },
  {
   "cell_type": "code",
   "execution_count": 28,
   "metadata": {},
   "outputs": [
    {
     "data": {
      "image/png": "[encoded data removed]",
      "text/plain": [
       "<Figure size 1440x1080 with 2 Axes>"
      ]
     },
     "metadata": {},
     "output_type": "display_data"
    }
   ],
   "source": [
    "# start check for the corrlation\n",
    "cmap = sns.diverging_palette(220, 10, as_cmap=True)\n",
    "plt.subplots(figsize=(20,15))\n",
    "matrix = all_data.corr()\n",
    "sns.heatmap(matrix,annot=True,cmap=\"RdYlGn\")\n",
    "plt.show()\n",
    "#churn --> is high with satisfication so low satisfication mean high chance to churn"
   ]
  },
  {
   "cell_type": "code",
   "execution_count": 29,
   "metadata": {},
   "outputs": [
    {
     "name": "stdout",
     "output_type": "stream",
     "text": [
      "0    1\n",
      "1    1\n",
      "2    1\n",
      "3    1\n",
      "4    1\n",
      "Name: churn, dtype: int64\n",
      "   satisfaction  evaluation  number_of_projects  average_montly_hours  \\\n",
      "0        -0.936      -1.087              -1.463                -0.882   \n",
      "1         0.753       0.841               0.971                 1.220   \n",
      "2        -2.022       0.958               2.594                 1.421   \n",
      "3         0.431       0.899               0.971                 0.440   \n",
      "4        -0.977      -1.146              -1.463                -0.842   \n",
      "\n",
      "   time_spend_company  work_accident  promotion  salary  IT  RandD  \\\n",
      "0              -0.341              0          0       0   0      0   \n",
      "1               1.713              0          0       1   0      0   \n",
      "2               0.344              0          0       1   0      0   \n",
      "3               1.029              0          0       0   0      0   \n",
      "4              -0.341              0          0       0   0      0   \n",
      "\n",
      "   accounting  hr  management  marketing  product_mng  sales  support  \n",
      "0           0   0           0          0            0      1        0  \n",
      "1           0   0           0          0            0      1        0  \n",
      "2           0   0           0          0            0      1        0  \n",
      "3           0   0           0          0            0      1        0  \n",
      "4           0   0           0          0            0      1        0  \n"
     ]
    }
   ],
   "source": [
    "y = all_data.churn\n",
    "X = all_data.drop('churn',axis=1)\n",
    "print(y.head())\n",
    "print(X.head())"
   ]
  },
  {
   "cell_type": "code",
   "execution_count": 30,
   "metadata": {},
   "outputs": [],
   "source": [
    "from sklearn.model_selection import train_test_split\n",
    "y_train,y_test,X_train,X_test = train_test_split(y,X,test_size=0.3,random_state = 42)"
   ]
  },
  {
   "cell_type": "code",
   "execution_count": 31,
   "metadata": {},
   "outputs": [
    {
     "data": {
      "text/plain": [
       "DecisionTreeClassifier(class_weight=None, criterion='gini', max_depth=50,\n",
       "            max_features=None, max_leaf_nodes=None,\n",
       "            min_impurity_decrease=0.0, min_impurity_split=None,\n",
       "            min_samples_leaf=1, min_samples_split=2,\n",
       "            min_weight_fraction_leaf=0.0, presort=False, random_state=42,\n",
       "            splitter='best')"
      ]
     },
     "execution_count": 31,
     "metadata": {},
     "output_type": "execute_result"
    }
   ],
   "source": [
    "# start with avery simple \n",
    "#from the first DT we can see there is an overfitting  \n",
    "from sklearn.tree import DecisionTreeClassifier\n",
    "model = DecisionTreeClassifier(random_state=42,max_depth=50)\n",
    "model.fit(X_train,y_train)"
   ]
  },
  {
   "cell_type": "code",
   "execution_count": 32,
   "metadata": {},
   "outputs": [
    {
     "data": {
      "text/plain": [
       "100.0"
      ]
     },
     "execution_count": 32,
     "metadata": {},
     "output_type": "execute_result"
    }
   ],
   "source": [
    "model.score(X_train,y_train) * 100\n"
   ]
  },
  {
   "cell_type": "code",
   "execution_count": 33,
   "metadata": {},
   "outputs": [
    {
     "data": {
      "text/plain": [
       "97.6"
      ]
     },
     "execution_count": 33,
     "metadata": {},
     "output_type": "execute_result"
    }
   ],
   "source": [
    "model.score(X_test,y_test) * 100"
   ]
  },
  {
   "cell_type": "code",
   "execution_count": 34,
   "metadata": {},
   "outputs": [
    {
     "name": "stdout",
     "output_type": "stream",
     "text": [
      "0.9405850091407678 0.9704632830596144\n",
      "[[3363   65]\n",
      " [  43 1029]]\n"
     ]
    }
   ],
   "source": [
    "from sklearn.metrics import precision_score,roc_auc_score\n",
    "from sklearn.metrics import confusion_matrix\n",
    "# Predict whether employees will churn using the test set\n",
    "prediction = model.predict(X_test)\n",
    "\n",
    "# Calculate precision score by comparing target_test with the prediction\n",
    "score =precision_score(y_test, prediction)\n",
    "auc = roc_auc_score(y_test, prediction)\n",
    "Cm  = confusion_matrix(y_test, prediction)\n",
    "print (score,auc)\n",
    "print(Cm)"
   ]
  },
  {
   "cell_type": "code",
   "execution_count": 35,
   "metadata": {},
   "outputs": [
    {
     "name": "stdout",
     "output_type": "stream",
     "text": [
      "[0.97714286 0.97904762 0.97619048 0.98190476 0.97047619 0.97333333\n",
      " 0.97428571 0.98       0.98285714 0.98570067]\n"
     ]
    }
   ],
   "source": [
    "#start tuning the first model\n",
    "# Import the function for implementing cross validation\n",
    "from sklearn.model_selection import cross_val_score\n",
    "\n",
    "# Use that function to print the cross validation score for 10 folds\n",
    "print(cross_val_score(model,X_train,y_train,cv=10))"
   ]
  },
  {
   "cell_type": "code",
   "execution_count": 36,
   "metadata": {},
   "outputs": [],
   "source": [
    "# Generate values for maximum depth\n",
    "depth = [i for i in range(5,100,2)]\n",
    "\n",
    "# Generate values for minimum sample size\n",
    "samples = [i for i in range(50,500,150)]\n",
    "\n",
    "# Create the dictionary with parameters to be checked\n",
    "parameters = dict(max_depth=depth, min_samples_leaf=samples)"
   ]
  },
  {
   "cell_type": "code",
   "execution_count": 37,
   "metadata": {},
   "outputs": [
    {
     "name": "stdout",
     "output_type": "stream",
     "text": [
      "Fitting 10 folds for each of 9 candidates, totalling 90 fits\n",
      "[CV] max_depth=50, min_samples_leaf=5 ................................\n",
      "[CV]  max_depth=50, min_samples_leaf=5, score=0.981904761904762, total=   0.0s\n",
      "[CV] max_depth=50, min_samples_leaf=5 ................................\n",
      "[CV]  max_depth=50, min_samples_leaf=5, score=0.9742857142857143, total=   0.0s\n",
      "[CV] max_depth=50, min_samples_leaf=5 ................................\n",
      "[CV]  max_depth=50, min_samples_leaf=5, score=0.9761904761904762, total=   0.0s\n",
      "[CV] max_depth=50, min_samples_leaf=5 ................................\n",
      "[CV]  max_depth=50, min_samples_leaf=5, score=0.979047619047619, total=   0.0s\n",
      "[CV] max_depth=50, min_samples_leaf=5 ................................\n",
      "[CV]  max_depth=50, min_samples_leaf=5, score=0.9771428571428571, total=   0.0s\n",
      "[CV] max_depth=50, min_samples_leaf=5 ................................\n"
     ]
    },
    {
     "name": "stderr",
     "output_type": "stream",
     "text": [
      "[Parallel(n_jobs=1)]: Done   1 out of   1 | elapsed:    0.0s remaining:    0.0s\n",
      "[Parallel(n_jobs=1)]: Done   2 out of   2 | elapsed:    0.0s remaining:    0.0s\n",
      "[Parallel(n_jobs=1)]: Done   3 out of   3 | elapsed:    0.0s remaining:    0.0s\n",
      "[Parallel(n_jobs=1)]: Done   4 out of   4 | elapsed:    0.0s remaining:    0.0s\n",
      "[Parallel(n_jobs=1)]: Done   5 out of   5 | elapsed:    0.1s remaining:    0.0s\n",
      "[Parallel(n_jobs=1)]: Done   6 out of   6 | elapsed:    0.1s remaining:    0.0s\n"
     ]
    },
    {
     "name": "stdout",
     "output_type": "stream",
     "text": [
      "[CV]  max_depth=50, min_samples_leaf=5, score=0.9771428571428571, total=   0.0s\n",
      "[CV] max_depth=50, min_samples_leaf=5 ................................\n",
      "[CV]  max_depth=50, min_samples_leaf=5, score=0.9723809523809523, total=   0.0s\n",
      "[CV] max_depth=50, min_samples_leaf=5 ................................\n",
      "[CV]  max_depth=50, min_samples_leaf=5, score=0.9752380952380952, total=   0.0s\n",
      "[CV] max_depth=50, min_samples_leaf=5 ................................\n",
      "[CV]  max_depth=50, min_samples_leaf=5, score=0.979047619047619, total=   0.0s\n",
      "[CV] max_depth=50, min_samples_leaf=5 ................................\n",
      "[CV]  max_depth=50, min_samples_leaf=5, score=0.9733079122974261, total=   0.0s\n",
      "[CV] max_depth=50, min_samples_leaf=50 ...............................\n",
      "[CV]  max_depth=50, min_samples_leaf=50, score=0.9733333333333334, total=   0.0s\n",
      "[CV] max_depth=50, min_samples_leaf=50 ...............................\n",
      "[CV]  max_depth=50, min_samples_leaf=50, score=0.9628571428571429, total=   0.0s\n",
      "[CV] max_depth=50, min_samples_leaf=50 ...............................\n",
      "[CV]  max_depth=50, min_samples_leaf=50, score=0.9647619047619047, total=   0.0s\n",
      "[CV] max_depth=50, min_samples_leaf=50 ...............................\n"
     ]
    },
    {
     "name": "stderr",
     "output_type": "stream",
     "text": [
      "[Parallel(n_jobs=1)]: Done   7 out of   7 | elapsed:    0.1s remaining:    0.0s\n",
      "[Parallel(n_jobs=1)]: Done   8 out of   8 | elapsed:    0.2s remaining:    0.0s\n",
      "[Parallel(n_jobs=1)]: Done   9 out of   9 | elapsed:    0.2s remaining:    0.0s\n"
     ]
    },
    {
     "name": "stdout",
     "output_type": "stream",
     "text": [
      "[CV]  max_depth=50, min_samples_leaf=50, score=0.9742857142857143, total=   0.0s\n",
      "[CV] max_depth=50, min_samples_leaf=50 ...............................\n",
      "[CV]  max_depth=50, min_samples_leaf=50, score=0.9619047619047619, total=   0.0s\n",
      "[CV] max_depth=50, min_samples_leaf=50 ...............................\n",
      "[CV]  max_depth=50, min_samples_leaf=50, score=0.9704761904761905, total=   0.0s\n",
      "[CV] max_depth=50, min_samples_leaf=50 ...............................\n",
      "[CV]  max_depth=50, min_samples_leaf=50, score=0.9685714285714285, total=   0.0s\n",
      "[CV] max_depth=50, min_samples_leaf=50 ...............................\n",
      "[CV]  max_depth=50, min_samples_leaf=50, score=0.9714285714285714, total=   0.0s\n",
      "[CV] max_depth=50, min_samples_leaf=50 ...............................\n",
      "[CV]  max_depth=50, min_samples_leaf=50, score=0.9752380952380952, total=   0.0s\n",
      "[CV] max_depth=50, min_samples_leaf=50 ...............................\n",
      "[CV]  max_depth=50, min_samples_leaf=50, score=0.9647283126787417, total=   0.0s\n",
      "[CV] max_depth=50, min_samples_leaf=500 ..............................\n",
      "[CV]  max_depth=50, min_samples_leaf=500, score=0.9485714285714286, total=   0.0s\n",
      "[CV] max_depth=50, min_samples_leaf=500 ..............................\n",
      "[CV]  max_depth=50, min_samples_leaf=500, score=0.9361904761904762, total=   0.0s\n",
      "[CV] max_depth=50, min_samples_leaf=500 ..............................\n",
      "[CV]  max_depth=50, min_samples_leaf=500, score=0.9504761904761905, total=   0.0s\n",
      "[CV] max_depth=50, min_samples_leaf=500 ..............................\n",
      "[CV]  max_depth=50, min_samples_leaf=500, score=0.9485714285714286, total=   0.0s\n",
      "[CV] max_depth=50, min_samples_leaf=500 ..............................\n",
      "[CV]  max_depth=50, min_samples_leaf=500, score=0.9361904761904762, total=   0.0s\n",
      "[CV] max_depth=50, min_samples_leaf=500 ..............................\n",
      "[CV]  max_depth=50, min_samples_leaf=500, score=0.939047619047619, total=   0.0s\n",
      "[CV] max_depth=50, min_samples_leaf=500 ..............................\n",
      "[CV]  max_depth=50, min_samples_leaf=500, score=0.9428571428571428, total=   0.0s\n",
      "[CV] max_depth=50, min_samples_leaf=500 ..............................\n",
      "[CV]  max_depth=50, min_samples_leaf=500, score=0.9476190476190476, total=   0.0s\n",
      "[CV] max_depth=50, min_samples_leaf=500 ..............................\n",
      "[CV]  max_depth=50, min_samples_leaf=500, score=0.9542857142857143, total=   0.0s\n",
      "[CV] max_depth=50, min_samples_leaf=500 ..............................\n",
      "[CV]  max_depth=50, min_samples_leaf=500, score=0.9447092469018112, total=   0.0s\n",
      "[CV] max_depth=5, min_samples_leaf=5 .................................\n",
      "[CV]  max_depth=5, min_samples_leaf=5, score=0.9761904761904762, total=   0.0s\n",
      "[CV] max_depth=5, min_samples_leaf=5 .................................\n",
      "[CV]  max_depth=5, min_samples_leaf=5, score=0.9714285714285714, total=   0.0s\n",
      "[CV] max_depth=5, min_samples_leaf=5 .................................\n",
      "[CV]  max_depth=5, min_samples_leaf=5, score=0.9742857142857143, total=   0.0s\n",
      "[CV] max_depth=5, min_samples_leaf=5 .................................\n",
      "[CV] ...... max_depth=5, min_samples_leaf=5, score=0.98, total=   0.0s\n",
      "[CV] max_depth=5, min_samples_leaf=5 .................................\n",
      "[CV]  max_depth=5, min_samples_leaf=5, score=0.9723809523809523, total=   0.0s\n",
      "[CV] max_depth=5, min_samples_leaf=5 .................................\n",
      "[CV]  max_depth=5, min_samples_leaf=5, score=0.9771428571428571, total=   0.0s\n",
      "[CV] max_depth=5, min_samples_leaf=5 .................................\n",
      "[CV]  max_depth=5, min_samples_leaf=5, score=0.9742857142857143, total=   0.0s\n",
      "[CV] max_depth=5, min_samples_leaf=5 .................................\n",
      "[CV]  max_depth=5, min_samples_leaf=5, score=0.9809523809523809, total=   0.0s\n",
      "[CV] max_depth=5, min_samples_leaf=5 .................................\n",
      "[CV]  max_depth=5, min_samples_leaf=5, score=0.9771428571428571, total=   0.0s\n",
      "[CV] max_depth=5, min_samples_leaf=5 .................................\n",
      "[CV]  max_depth=5, min_samples_leaf=5, score=0.9733079122974261, total=   0.0s\n",
      "[CV] max_depth=5, min_samples_leaf=50 ................................\n",
      "[CV]  max_depth=5, min_samples_leaf=50, score=0.9733333333333334, total=   0.0s\n",
      "[CV] max_depth=5, min_samples_leaf=50 ................................\n",
      "[CV]  max_depth=5, min_samples_leaf=50, score=0.9628571428571429, total=   0.0s\n",
      "[CV] max_depth=5, min_samples_leaf=50 ................................\n",
      "[CV]  max_depth=5, min_samples_leaf=50, score=0.9647619047619047, total=   0.0s\n",
      "[CV] max_depth=5, min_samples_leaf=50 ................................\n",
      "[CV]  max_depth=5, min_samples_leaf=50, score=0.9742857142857143, total=   0.0s\n",
      "[CV] max_depth=5, min_samples_leaf=50 ................................\n",
      "[CV]  max_depth=5, min_samples_leaf=50, score=0.9619047619047619, total=   0.0s\n",
      "[CV] max_depth=5, min_samples_leaf=50 ................................\n",
      "[CV]  max_depth=5, min_samples_leaf=50, score=0.9704761904761905, total=   0.0s\n",
      "[CV] max_depth=5, min_samples_leaf=50 ................................\n",
      "[CV]  max_depth=5, min_samples_leaf=50, score=0.9685714285714285, total=   0.0s\n",
      "[CV] max_depth=5, min_samples_leaf=50 ................................\n",
      "[CV]  max_depth=5, min_samples_leaf=50, score=0.9714285714285714, total=   0.0s\n",
      "[CV] max_depth=5, min_samples_leaf=50 ................................\n",
      "[CV]  max_depth=5, min_samples_leaf=50, score=0.9752380952380952, total=   0.0s\n",
      "[CV] max_depth=5, min_samples_leaf=50 ................................\n",
      "[CV]  max_depth=5, min_samples_leaf=50, score=0.9647283126787417, total=   0.0s\n",
      "[CV] max_depth=5, min_samples_leaf=500 ...............................\n",
      "[CV]  max_depth=5, min_samples_leaf=500, score=0.9485714285714286, total=   0.0s\n",
      "[CV] max_depth=5, min_samples_leaf=500 ...............................\n",
      "[CV]  max_depth=5, min_samples_leaf=500, score=0.9361904761904762, total=   0.0s\n",
      "[CV] max_depth=5, min_samples_leaf=500 ...............................\n",
      "[CV]  max_depth=5, min_samples_leaf=500, score=0.9504761904761905, total=   0.0s\n",
      "[CV] max_depth=5, min_samples_leaf=500 ...............................\n",
      "[CV]  max_depth=5, min_samples_leaf=500, score=0.9485714285714286, total=   0.0s\n",
      "[CV] max_depth=5, min_samples_leaf=500 ...............................\n",
      "[CV]  max_depth=5, min_samples_leaf=500, score=0.9361904761904762, total=   0.0s\n",
      "[CV] max_depth=5, min_samples_leaf=500 ...............................\n",
      "[CV]  max_depth=5, min_samples_leaf=500, score=0.939047619047619, total=   0.0s\n",
      "[CV] max_depth=5, min_samples_leaf=500 ...............................\n",
      "[CV]  max_depth=5, min_samples_leaf=500, score=0.9428571428571428, total=   0.0s\n",
      "[CV] max_depth=5, min_samples_leaf=500 ...............................\n",
      "[CV]  max_depth=5, min_samples_leaf=500, score=0.9476190476190476, total=   0.0s\n",
      "[CV] max_depth=5, min_samples_leaf=500 ...............................\n",
      "[CV]  max_depth=5, min_samples_leaf=500, score=0.9542857142857143, total=   0.0s\n",
      "[CV] max_depth=5, min_samples_leaf=500 ...............................\n",
      "[CV]  max_depth=5, min_samples_leaf=500, score=0.9447092469018112, total=   0.0s\n",
      "[CV] max_depth=100, min_samples_leaf=5 ...............................\n",
      "[CV]  max_depth=100, min_samples_leaf=5, score=0.981904761904762, total=   0.0s\n",
      "[CV] max_depth=100, min_samples_leaf=5 ...............................\n",
      "[CV]  max_depth=100, min_samples_leaf=5, score=0.9742857142857143, total=   0.0s\n",
      "[CV] max_depth=100, min_samples_leaf=5 ...............................\n",
      "[CV]  max_depth=100, min_samples_leaf=5, score=0.9761904761904762, total=   0.0s\n",
      "[CV] max_depth=100, min_samples_leaf=5 ...............................\n",
      "[CV]  max_depth=100, min_samples_leaf=5, score=0.979047619047619, total=   0.0s\n",
      "[CV] max_depth=100, min_samples_leaf=5 ...............................\n",
      "[CV]  max_depth=100, min_samples_leaf=5, score=0.9771428571428571, total=   0.0s\n",
      "[CV] max_depth=100, min_samples_leaf=5 ...............................\n",
      "[CV]  max_depth=100, min_samples_leaf=5, score=0.9771428571428571, total=   0.0s\n",
      "[CV] max_depth=100, min_samples_leaf=5 ...............................\n",
      "[CV]  max_depth=100, min_samples_leaf=5, score=0.9723809523809523, total=   0.0s\n",
      "[CV] max_depth=100, min_samples_leaf=5 ...............................\n",
      "[CV]  max_depth=100, min_samples_leaf=5, score=0.9752380952380952, total=   0.0s\n",
      "[CV] max_depth=100, min_samples_leaf=5 ...............................\n",
      "[CV]  max_depth=100, min_samples_leaf=5, score=0.979047619047619, total=   0.0s\n",
      "[CV] max_depth=100, min_samples_leaf=5 ...............................\n",
      "[CV]  max_depth=100, min_samples_leaf=5, score=0.9733079122974261, total=   0.0s\n",
      "[CV] max_depth=100, min_samples_leaf=50 ..............................\n"
     ]
    },
    {
     "name": "stdout",
     "output_type": "stream",
     "text": [
      "[CV]  max_depth=100, min_samples_leaf=50, score=0.9733333333333334, total=   0.0s\n",
      "[CV] max_depth=100, min_samples_leaf=50 ..............................\n",
      "[CV]  max_depth=100, min_samples_leaf=50, score=0.9628571428571429, total=   0.0s\n",
      "[CV] max_depth=100, min_samples_leaf=50 ..............................\n",
      "[CV]  max_depth=100, min_samples_leaf=50, score=0.9647619047619047, total=   0.0s\n",
      "[CV] max_depth=100, min_samples_leaf=50 ..............................\n",
      "[CV]  max_depth=100, min_samples_leaf=50, score=0.9742857142857143, total=   0.0s\n",
      "[CV] max_depth=100, min_samples_leaf=50 ..............................\n",
      "[CV]  max_depth=100, min_samples_leaf=50, score=0.9619047619047619, total=   0.0s\n",
      "[CV] max_depth=100, min_samples_leaf=50 ..............................\n",
      "[CV]  max_depth=100, min_samples_leaf=50, score=0.9704761904761905, total=   0.0s\n",
      "[CV] max_depth=100, min_samples_leaf=50 ..............................\n",
      "[CV]  max_depth=100, min_samples_leaf=50, score=0.9685714285714285, total=   0.0s\n",
      "[CV] max_depth=100, min_samples_leaf=50 ..............................\n",
      "[CV]  max_depth=100, min_samples_leaf=50, score=0.9714285714285714, total=   0.0s\n",
      "[CV] max_depth=100, min_samples_leaf=50 ..............................\n",
      "[CV]  max_depth=100, min_samples_leaf=50, score=0.9752380952380952, total=   0.0s\n",
      "[CV] max_depth=100, min_samples_leaf=50 ..............................\n",
      "[CV]  max_depth=100, min_samples_leaf=50, score=0.9647283126787417, total=   0.0s\n",
      "[CV] max_depth=100, min_samples_leaf=500 .............................\n",
      "[CV]  max_depth=100, min_samples_leaf=500, score=0.9485714285714286, total=   0.0s\n",
      "[CV] max_depth=100, min_samples_leaf=500 .............................\n",
      "[CV]  max_depth=100, min_samples_leaf=500, score=0.9361904761904762, total=   0.0s\n",
      "[CV] max_depth=100, min_samples_leaf=500 .............................\n",
      "[CV]  max_depth=100, min_samples_leaf=500, score=0.9504761904761905, total=   0.0s\n",
      "[CV] max_depth=100, min_samples_leaf=500 .............................\n",
      "[CV]  max_depth=100, min_samples_leaf=500, score=0.9485714285714286, total=   0.0s\n",
      "[CV] max_depth=100, min_samples_leaf=500 .............................\n",
      "[CV]  max_depth=100, min_samples_leaf=500, score=0.9361904761904762, total=   0.0s\n",
      "[CV] max_depth=100, min_samples_leaf=500 .............................\n",
      "[CV]  max_depth=100, min_samples_leaf=500, score=0.939047619047619, total=   0.0s\n",
      "[CV] max_depth=100, min_samples_leaf=500 .............................\n",
      "[CV]  max_depth=100, min_samples_leaf=500, score=0.9428571428571428, total=   0.0s\n",
      "[CV] max_depth=100, min_samples_leaf=500 .............................\n",
      "[CV]  max_depth=100, min_samples_leaf=500, score=0.9476190476190476, total=   0.0s\n",
      "[CV] max_depth=100, min_samples_leaf=500 .............................\n",
      "[CV]  max_depth=100, min_samples_leaf=500, score=0.9542857142857143, total=   0.0s\n",
      "[CV] max_depth=100, min_samples_leaf=500 .............................\n",
      "[CV]  max_depth=100, min_samples_leaf=500, score=0.9447092469018112, total=   0.0s\n"
     ]
    },
    {
     "name": "stderr",
     "output_type": "stream",
     "text": [
      "[Parallel(n_jobs=1)]: Done  90 out of  90 | elapsed:    1.9s finished\n"
     ]
    },
    {
     "data": {
      "text/plain": [
       "GridSearchCV(cv=10, error_score='raise',\n",
       "       estimator=DecisionTreeClassifier(class_weight=None, criterion='gini', max_depth=50,\n",
       "            max_features=None, max_leaf_nodes=None,\n",
       "            min_impurity_decrease=0.0, min_impurity_split=None,\n",
       "            min_samples_leaf=1, min_samples_split=2,\n",
       "            min_weight_fraction_leaf=0.0, presort=False, random_state=42,\n",
       "            splitter='best'),\n",
       "       fit_params=None, iid=True, n_jobs=1,\n",
       "       param_grid={'max_depth': [50, 5, 100], 'min_samples_leaf': [5, 50, 500]},\n",
       "       pre_dispatch='2*n_jobs', refit=True, return_train_score='warn',\n",
       "       scoring='accuracy', verbose=10)"
      ]
     },
     "execution_count": 37,
     "metadata": {},
     "output_type": "execute_result"
    }
   ],
   "source": [
    "# import the GridSearchCV function\n",
    "from sklearn.model_selection import GridSearchCV\n",
    "\n",
    "depth = [50,5,100]\n",
    "samples =[5,50,500]\n",
    "# set up parameters: done\n",
    "parameters = dict(max_depth=depth, min_samples_leaf=samples)\n",
    "\n",
    "# initialize the param_search function using the GridSearchCV function, initial model and parameters above\n",
    "#verbose=10 --> showing the progress of the cv\n",
    "param_search = GridSearchCV(model, parameters,cv=10, scoring='accuracy', verbose=10)\n",
    "\n",
    "# fit the param_search to dataset\n",
    "param_search.fit(X_train,y_train)\n",
    "\n",
    "# print the best parameters found\n"
   ]
  },
  {
   "cell_type": "code",
   "execution_count": 38,
   "metadata": {},
   "outputs": [
    {
     "name": "stdout",
     "output_type": "stream",
     "text": [
      "{'max_depth': 50, 'min_samples_leaf': 5}\n"
     ]
    }
   ],
   "source": [
    "print(param_search.best_params_) "
   ]
  },
  {
   "cell_type": "code",
   "execution_count": 39,
   "metadata": {},
   "outputs": [
    {
     "data": {
      "text/html": [
       "<div>\n",
       "<style scoped>\n",
       "    .dataframe tbody tr th:only-of-type {\n",
       "        vertical-align: middle;\n",
       "    }\n",
       "\n",
       "    .dataframe tbody tr th {\n",
       "        vertical-align: top;\n",
       "    }\n",
       "\n",
       "    .dataframe thead th {\n",
       "        text-align: right;\n",
       "    }\n",
       "</style>\n",
       "<table border=\"1\" class=\"dataframe\">\n",
       "  <thead>\n",
       "    <tr style=\"text-align: right;\">\n",
       "      <th></th>\n",
       "      <th>importance</th>\n",
       "    </tr>\n",
       "  </thead>\n",
       "  <tbody>\n",
       "    <tr>\n",
       "      <th>satisfaction</th>\n",
       "      <td>0.568</td>\n",
       "    </tr>\n",
       "    <tr>\n",
       "      <th>evaluation</th>\n",
       "      <td>0.145</td>\n",
       "    </tr>\n",
       "    <tr>\n",
       "      <th>time_spend_company</th>\n",
       "      <td>0.137</td>\n",
       "    </tr>\n",
       "    <tr>\n",
       "      <th>number_of_projects</th>\n",
       "      <td>0.094</td>\n",
       "    </tr>\n",
       "    <tr>\n",
       "      <th>average_montly_hours</th>\n",
       "      <td>0.056</td>\n",
       "    </tr>\n",
       "    <tr>\n",
       "      <th>hr</th>\n",
       "      <td>0.000</td>\n",
       "    </tr>\n",
       "    <tr>\n",
       "      <th>sales</th>\n",
       "      <td>0.000</td>\n",
       "    </tr>\n",
       "    <tr>\n",
       "      <th>product_mng</th>\n",
       "      <td>0.000</td>\n",
       "    </tr>\n",
       "    <tr>\n",
       "      <th>marketing</th>\n",
       "      <td>0.000</td>\n",
       "    </tr>\n",
       "    <tr>\n",
       "      <th>management</th>\n",
       "      <td>0.000</td>\n",
       "    </tr>\n",
       "    <tr>\n",
       "      <th>IT</th>\n",
       "      <td>0.000</td>\n",
       "    </tr>\n",
       "    <tr>\n",
       "      <th>accounting</th>\n",
       "      <td>0.000</td>\n",
       "    </tr>\n",
       "    <tr>\n",
       "      <th>RandD</th>\n",
       "      <td>0.000</td>\n",
       "    </tr>\n",
       "    <tr>\n",
       "      <th>salary</th>\n",
       "      <td>0.000</td>\n",
       "    </tr>\n",
       "    <tr>\n",
       "      <th>promotion</th>\n",
       "      <td>0.000</td>\n",
       "    </tr>\n",
       "    <tr>\n",
       "      <th>work_accident</th>\n",
       "      <td>0.000</td>\n",
       "    </tr>\n",
       "    <tr>\n",
       "      <th>support</th>\n",
       "      <td>0.000</td>\n",
       "    </tr>\n",
       "  </tbody>\n",
       "</table>\n",
       "</div>"
      ],
      "text/plain": [
       "                      importance\n",
       "satisfaction               0.568\n",
       "evaluation                 0.145\n",
       "time_spend_company         0.137\n",
       "number_of_projects         0.094\n",
       "average_montly_hours       0.056\n",
       "hr                         0.000\n",
       "sales                      0.000\n",
       "product_mng                0.000\n",
       "marketing                  0.000\n",
       "management                 0.000\n",
       "IT                         0.000\n",
       "accounting                 0.000\n",
       "RandD                      0.000\n",
       "salary                     0.000\n",
       "promotion                  0.000\n",
       "work_accident              0.000\n",
       "support                    0.000"
      ]
     },
     "execution_count": 39,
     "metadata": {},
     "output_type": "execute_result"
    }
   ],
   "source": [
    "model = DecisionTreeClassifier(random_state=42,max_depth=7,min_samples_leaf=50)\n",
    "model.fit(X_train,y_train)\n",
    "# Calculate feature importances\n",
    "feature_importances = model.feature_importances_\n",
    "\n",
    "\n",
    "# Create a list of features: done\n",
    "feature_list = list(X_train)\n",
    "\n",
    "# Save the results inside a DataFrame using feature_list as an index\n",
    "relative_importances = pd.DataFrame(index=feature_list, data=feature_importances, columns=[\"importance\"])\n",
    "\n",
    "# Sort the DataFrame to learn most important features\n",
    "relative_importances.sort_values(by=\"importance\", ascending=False)"
   ]
  },
  {
   "cell_type": "code",
   "execution_count": 40,
   "metadata": {},
   "outputs": [],
   "source": [
    "selected_features = relative_importances[relative_importances.importance>0.01]\n",
    "\n",
    "# create a list from those features: done\n",
    "selected_list = selected_features.index\n",
    "\n",
    "# transform both features_train and features_test components to include only selected features\n",
    "features_train_selected = X_train[selected_list]\n",
    "features_test_selected = X_test[selected_list]"
   ]
  },
  {
   "cell_type": "code",
   "execution_count": 41,
   "metadata": {},
   "outputs": [
    {
     "name": "stdout",
     "output_type": "stream",
     "text": [
      "96.66666666666667\n",
      "89.08582089552239\n",
      "94.06158022605757\n"
     ]
    }
   ],
   "source": [
    "\n",
    "from sklearn.metrics import recall_score\n",
    "# Initialize the best model using parameters provided in description\n",
    "model_best = DecisionTreeClassifier(max_depth = 7,min_samples_leaf = 50,class_weight = \"balanced\", random_state=42)\n",
    "\n",
    "# Fit the model using only selected features from training set: done\n",
    "model_best.fit(features_train_selected, y_train)\n",
    "\n",
    "# Make prediction based on selected list of features from test set\n",
    "prediction_best = model_best.predict(features_test_selected)\n",
    "\n",
    "# Print the general accuracy of the model_best\n",
    "print(model_best.score(features_test_selected, y_test) * 100)\n",
    "\n",
    "# Print the recall score of the model predictions\n",
    "print(recall_score(y_test, prediction_best) * 100)\n",
    "\n",
    "# Print the ROC/AUC score of the model predictions\n",
    "print(roc_auc_score(y_test, prediction_best) * 100)"
   ]
  },
  {
   "cell_type": "code",
   "execution_count": 42,
   "metadata": {},
   "outputs": [
    {
     "name": "stderr",
     "output_type": "stream",
     "text": [
      "C:\\Users\\arsany\\Anaconda3\\lib\\site-packages\\sklearn\\ensemble\\weight_boosting.py:29: DeprecationWarning: numpy.core.umath_tests is an internal NumPy module and should not be imported. It will be removed in a future NumPy release.\n",
      "  from numpy.core.umath_tests import inner1d\n"
     ]
    },
    {
     "name": "stdout",
     "output_type": "stream",
     "text": [
      "96.91111111111111\n",
      "91.69776119402985\n",
      "95.11959238231248\n"
     ]
    },
    {
     "name": "stderr",
     "output_type": "stream",
     "text": [
      "C:\\Users\\arsany\\Anaconda3\\lib\\site-packages\\sklearn\\preprocessing\\label.py:151: DeprecationWarning: The truth value of an empty array is ambiguous. Returning False, but in future this will result in an error. Use `array.size > 0` to check that an array is not empty.\n",
      "  if diff:\n"
     ]
    }
   ],
   "source": [
    "#start ensampling model \n",
    "from sklearn.neighbors import KNeighborsClassifier as Knn\n",
    "from sklearn.linear_model import LogisticRegression\n",
    "from sklearn.tree import DecisionTreeClassifier\n",
    "from sklearn.ensemble import VotingClassifier\n",
    "from sklearn.metrics import accuracy_score\n",
    "seed = 42\n",
    "y_train,y_test,X_train,X_test = train_test_split(y,X,test_size=0.3,random_state = seed)\n",
    "lr = LogisticRegression(random_state =seed)\n",
    "dt = DecisionTreeClassifier(random_state=seed,max_depth=50)\n",
    "knn =Knn()\n",
    "classifiers = [('lr',lr),('Dt',dt),('knn',knn)]\n",
    "vc = VotingClassifier(estimators = classifiers)\n",
    "vc.fit(X_train,y_train)\n",
    "pre = vc.predict(X_test)\n",
    "# Print the general accuracy of the model_best\n",
    "print(accuracy_score(y_test,pre) * 100)\n",
    "\n",
    "# Print the recall score of the model predictions\n",
    "print(recall_score(y_test, pre) * 100)\n",
    "\n",
    "# Print the ROC/AUC score of the model predictions\n",
    "print(roc_auc_score(y_test, pre) * 100)"
   ]
  },
  {
   "cell_type": "code",
   "execution_count": 43,
   "metadata": {},
   "outputs": [],
   "source": [
    "# start ensample learning techniques \n",
    "#1-try voting clasifier\n",
    "#from sklearn.ensemble import RandomForestClassifier\n",
    "\n",
    "# Generate values for maximum depth\n",
    "#depth = [i for i in range(4,10,1)]\n",
    "\n",
    "# Generate values for minimum sample size\n",
    "#samples = [i for i in range(50,500,50)]\n",
    "\n",
    "#nstematories\n",
    "#estimators = [50,100,500]\n",
    "#min_leaf = [0.012,0.13,0.06,0.03]\n",
    "\n",
    "# Create the dictionary with parameters to be checked\n",
    "#parameters = dict(n_estimators=estimators,max_depth=depth,min_samples_leaf=min_leaf)\n",
    "\n",
    "\n",
    "#rand =RandomForestClassifier(random_state=seed,max_features=10)\n",
    "#param_search = GridSearchCV(rand, parameters,cv=10)\n",
    "#param_search.fit(X_train,y_train)\n",
    "\n",
    "# print the best parameters found\n",
    "#print(param_search.best_params_)"
   ]
  },
  {
   "cell_type": "code",
   "execution_count": 44,
   "metadata": {},
   "outputs": [
    {
     "name": "stdout",
     "output_type": "stream",
     "text": [
      "6723    0\n",
      "6473    0\n",
      "4679    0\n",
      "862     1\n",
      "7286    0\n",
      "Name: churn, dtype: int64\n",
      "95.97777777777777\n",
      "89.8320895522388\n",
      "93.86586974694787\n"
     ]
    }
   ],
   "source": [
    "from sklearn.ensemble import RandomForestClassifier\n",
    "from sklearn.model_selection import train_test_split\n",
    "y_train,y_test,X_train,X_test = train_test_split(y,X,test_size=0.3,random_state = seed)\n",
    "\n",
    "print(y_test.head())\n",
    "\n",
    "\n",
    "rand =RandomForestClassifier(max_depth=6, min_samples_leaf=0.012,n_estimators=500, random_state=seed,max_features= 10)\n",
    "rand.fit(X_train,y_train),\n",
    "pre = rand.predict(X_test)\n",
    "# Print the general accuracy of the model_best\n",
    "print(accuracy_score(y_test,pre) * 100)\n",
    "\n",
    "# Print the recall score of the model predictions\n",
    "print(recall_score(y_test, pre) * 100)\n",
    "\n",
    "# Print the ROC/AUC score of the model predictions\n",
    "print(roc_auc_score(y_test, pre) * 100)"
   ]
  },
  {
   "cell_type": "code",
   "execution_count": 45,
   "metadata": {},
   "outputs": [
    {
     "data": {
      "text/plain": [
       "XGBClassifier(base_score=0.5, booster='gbtree', colsample_bylevel=1,\n",
       "       colsample_bytree=1, gamma=0, learning_rate=0.01, max_delta_step=0,\n",
       "       max_depth=6, max_features=10, min_child_weight=1,\n",
       "       min_samples_leaf=0.012, missing=None, n_estimators=500, n_jobs=1,\n",
       "       nthread=None, objective='binary:logistic', random_state=42,\n",
       "       reg_alpha=0, reg_lambda=1, scale_pos_weight=1, seed=None,\n",
       "       silent=True, subsample=1)"
      ]
     },
     "execution_count": 45,
     "metadata": {},
     "output_type": "execute_result"
    }
   ],
   "source": [
    "from xgboost import XGBClassifier\n",
    "\n",
    "depth = [i for i in range(5,100,2)]\n",
    "\n",
    "# Generate values for minimum sample size\n",
    "samples = [i for i in range(50,500,50)]\n",
    "\n",
    "#nstematories\n",
    "estimators = [50,100,500]\n",
    "\n",
    "learning = [0.001,0.01,0.1]\n",
    "fraetues   = [5,3,10]\n",
    "# Create the dictionary with parameters to be checked\n",
    "parameters = dict(n_estimators=estimators)\n",
    "m1 = XGBClassifier(learning_rate=0.01,max_depth=6,min_samples_leaf=0.012,n_estimators=500, random_state=seed,max_features= 10)\n",
    "m1.fit(X_train,y_train)\n",
    "\n",
    "# print the best parameters found\n",
    "\n",
    "\n",
    "\n"
   ]
  },
  {
   "cell_type": "code",
   "execution_count": 46,
   "metadata": {},
   "outputs": [
    {
     "name": "stdout",
     "output_type": "stream",
     "text": [
      "97.55555555555556\n",
      "90.95149253731343\n",
      "95.28613133283407\n"
     ]
    },
    {
     "name": "stderr",
     "output_type": "stream",
     "text": [
      "C:\\Users\\arsany\\Anaconda3\\lib\\site-packages\\sklearn\\preprocessing\\label.py:151: DeprecationWarning: The truth value of an empty array is ambiguous. Returning False, but in future this will result in an error. Use `array.size > 0` to check that an array is not empty.\n",
      "  if diff:\n"
     ]
    }
   ],
   "source": [
    "pre =m1.predict(X_test)\n",
    "# Print the general accuracy of the model_best\n",
    "print(accuracy_score(y_test,pre) * 100)\n",
    "\n",
    "# Print the recall score of the model predictions\n",
    "print(recall_score(y_test, pre) * 100)\n",
    "\n",
    "# Print the ROC/AUC score of the model predictions\n",
    "print(roc_auc_score(y_test, pre) * 100)"
   ]
  },
  {
   "cell_type": "code",
   "execution_count": 47,
   "metadata": {},
   "outputs": [
    {
     "name": "stdout",
     "output_type": "stream",
     "text": [
      "   satisfaction  evaluation  number_of_projects  average_montly_hours  \\\n",
      "0         0.380       0.530                   2                   157   \n",
      "1         0.800       0.860                   5                   262   \n",
      "2         0.110       0.880                   7                   272   \n",
      "3         0.720       0.870                   5                   223   \n",
      "4         0.370       0.520                   2                   159   \n",
      "\n",
      "   time_spend_company  work_accident  churn  promotion department  salary  \n",
      "0                   3              0      1          0      sales     low  \n",
      "1                   6              0      1          0      sales  medium  \n",
      "2                   4              0      1          0      sales  medium  \n",
      "3                   5              0      1          0      sales     low  \n",
      "4                   3              0      1          0      sales     low  \n"
     ]
    }
   ],
   "source": [
    "#import the libaries  \n",
    "import numpy as np\n",
    "print(data.head())"
   ]
  },
  {
   "cell_type": "code",
   "execution_count": 69,
   "metadata": {},
   "outputs": [],
   "source": [
    "from keras.layers import Dense\n",
    "from keras.models import Sequential\n",
    "from keras.utils import to_categorical\n",
    "from keras import optimizers\n",
    "\n",
    "predictors = all_data.drop(['churn'],axis=1)\n",
    "target = to_categorical(y_train)\n",
    "y_test = to_categorical(y_test)\n",
    "n_cols = X_train.shape[1]\n",
    "def get_best():\n",
    "    model = Sequential()\n",
    "    model.add(Dense(10,activation='relu',kernel_initializer='random_normal',input_shape=(n_cols,)))\n",
    "    model.add(Dense(4,activation='relu',kernel_initializer='random_normal'))\n",
    "    model.add(Dense(7,activation='relu',kernel_initializer='random_normal'))\n",
    "    model.add(Dense(2,activation='sigmoid',kernel_initializer='random_normal'))\n",
    "    return(model)"
   ]
  },
  {
   "cell_type": "code",
   "execution_count": 70,
   "metadata": {},
   "outputs": [
    {
     "name": "stdout",
     "output_type": "stream",
     "text": [
      "Train on 7349 samples, validate on 3150 samples\n",
      "Epoch 1/20\n",
      "7349/7349 [==============================] - 1s 83us/step - loss: 0.5488 - acc: 0.7628 - val_loss: 0.4014 - val_acc: 0.7600\n",
      "Epoch 2/20\n",
      "7349/7349 [==============================] - 0s 31us/step - loss: 0.3526 - acc: 0.7628 - val_loss: 0.3153 - val_acc: 0.7600\n",
      "Epoch 3/20\n",
      "7349/7349 [==============================] - 0s 29us/step - loss: 0.2907 - acc: 0.8619 - val_loss: 0.2739 - val_acc: 0.9125\n",
      "Epoch 4/20\n",
      "7349/7349 [==============================] - 0s 30us/step - loss: 0.2569 - acc: 0.9327 - val_loss: 0.2489 - val_acc: 0.9376\n",
      "Epoch 5/20\n",
      "7349/7349 [==============================] - 0s 28us/step - loss: 0.2358 - acc: 0.9473 - val_loss: 0.2323 - val_acc: 0.9505\n",
      "Epoch 6/20\n",
      "7349/7349 [==============================] - 0s 29us/step - loss: 0.2203 - acc: 0.9558 - val_loss: 0.2220 - val_acc: 0.9498\n",
      "Epoch 7/20\n",
      "7349/7349 [==============================] - 0s 29us/step - loss: 0.2082 - acc: 0.9582 - val_loss: 0.2095 - val_acc: 0.9587\n",
      "Epoch 8/20\n",
      "7349/7349 [==============================] - 0s 28us/step - loss: 0.1979 - acc: 0.9625 - val_loss: 0.2000 - val_acc: 0.9578\n",
      "Epoch 9/20\n",
      "7349/7349 [==============================] - 0s 28us/step - loss: 0.1894 - acc: 0.9618 - val_loss: 0.1924 - val_acc: 0.9578\n",
      "Epoch 10/20\n",
      "7349/7349 [==============================] - 0s 28us/step - loss: 0.1817 - acc: 0.9630 - val_loss: 0.1860 - val_acc: 0.9581\n",
      "Epoch 11/20\n",
      "7349/7349 [==============================] - 0s 29us/step - loss: 0.1758 - acc: 0.9626 - val_loss: 0.1810 - val_acc: 0.9590\n",
      "Epoch 12/20\n",
      "7349/7349 [==============================] - 0s 28us/step - loss: 0.1707 - acc: 0.9630 - val_loss: 0.1780 - val_acc: 0.9565\n",
      "Epoch 13/20\n",
      "7349/7349 [==============================] - 0s 29us/step - loss: 0.1669 - acc: 0.9619 - val_loss: 0.1762 - val_acc: 0.9597\n",
      "Epoch 14/20\n",
      "7349/7349 [==============================] - 0s 29us/step - loss: 0.1629 - acc: 0.9629 - val_loss: 0.1743 - val_acc: 0.9600\n",
      "Epoch 15/20\n",
      "7349/7349 [==============================] - 0s 30us/step - loss: 0.1595 - acc: 0.9623 - val_loss: 0.1701 - val_acc: 0.9568\n",
      "Epoch 16/20\n",
      "7349/7349 [==============================] - 0s 29us/step - loss: 0.1571 - acc: 0.9628 - val_loss: 0.1666 - val_acc: 0.9603\n",
      "Epoch 17/20\n",
      "7349/7349 [==============================] - 0s 29us/step - loss: 0.1542 - acc: 0.9618 - val_loss: 0.1671 - val_acc: 0.9565\n"
     ]
    },
    {
     "data": {
      "text/plain": [
       "<keras.callbacks.History at 0x2bcc1e734e0>"
      ]
     },
     "execution_count": 70,
     "metadata": {},
     "output_type": "execute_result"
    }
   ],
   "source": [
    "from keras.callbacks import EarlyStopping\n",
    "#lr = [0.000001,0.0001,0.01,1,10]\n",
    "#for i in lr:\n",
    "early_stopping_monitor =EarlyStopping(patience=0.5)\n",
    "model= get_best()\n",
    "  #  optimiser= optimizers.SGD(lr=i)\n",
    "model.compile(optimizer='adam',loss='binary_crossentropy',metrics=['accuracy'])\n",
    "model.fit(X_train,target, epochs=20,validation_split=0.3,callbacks = [early_stopping_monitor])\n"
   ]
  },
  {
   "cell_type": "code",
   "execution_count": 71,
   "metadata": {},
   "outputs": [
    {
     "name": "stdout",
     "output_type": "stream",
     "text": [
      "10499/10499 [==============================] - 0s 15us/step\n",
      "[0.15648280210450258, 0.9599961901133441]\n"
     ]
    }
   ],
   "source": [
    "eval_m = model.evaluate(X_train,target)\n",
    "print(eval_m)"
   ]
  },
  {
   "cell_type": "code",
   "execution_count": 72,
   "metadata": {},
   "outputs": [],
   "source": [
    "y_pre = model.predict(X_test)\n",
    "y_pre =(y_pre>0.5)"
   ]
  },
  {
   "cell_type": "code",
   "execution_count": 73,
   "metadata": {},
   "outputs": [
    {
     "name": "stdout",
     "output_type": "stream",
     "text": [
      "95.44444444444444\n"
     ]
    }
   ],
   "source": [
    "print(accuracy_score(y_test,y_pre) * 100)\n",
    "\n",
    "# Print the recall score of the model predictions\n",
    "#print(recall_score(y_test, y_pre) * 100)\n",
    "\n",
    "# Print the ROC/AUC score of the model predictions\n",
    "#print(roc_auc_score(y_test, y_pre) * 100)"
   ]
  },
  {
   "cell_type": "code",
   "execution_count": 74,
   "metadata": {},
   "outputs": [
    {
     "name": "stdout",
     "output_type": "stream",
     "text": [
      "[[3340   88]\n",
      " [ 117  955]]\n"
     ]
    }
   ],
   "source": [
    "from sklearn.metrics import confusion_matrix\n",
    "cm = confusion_matrix(y_test.argmax(axis=1), y_pre.argmax(axis=1))\n",
    "print(cm)"
   ]
  },
  {
   "cell_type": "code",
   "execution_count": null,
   "metadata": {},
   "outputs": [],
   "source": []
  },
  {
   "cell_type": "code",
   "execution_count": null,
   "metadata": {},
   "outputs": [],
   "source": []
  }
 ],
 "metadata": {
  "kernelspec": {
   "display_name": "Python 3",
   "language": "python",
   "name": "python3"
  },
  "language_info": {
   "codemirror_mode": {
    "name": "ipython",
    "version": 3
   },
   "file_extension": ".py",
   "mimetype": "text/x-python",
   "name": "python",
   "nbconvert_exporter": "python",
   "pygments_lexer": "ipython3",
   "version": "3.6.5"
  }
 },
 "nbformat": 4,
 "nbformat_minor": 2
}
